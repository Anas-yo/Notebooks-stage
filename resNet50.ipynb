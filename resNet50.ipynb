{
  "nbformat": 4,
  "nbformat_minor": 0,
  "metadata": {
    "colab": {
      "name": "resNet50.ipynb",
      "provenance": [],
      "collapsed_sections": [],
      "toc_visible": true
    },
    "kernelspec": {
      "name": "python3",
      "display_name": "Python 3"
    },
    "language_info": {
      "name": "python"
    },
    "accelerator": "GPU"
  },
  "cells": [
    {
      "cell_type": "markdown",
      "metadata": {
        "id": "VrXrhioOhKiI"
      },
      "source": [
        "## ResNet-50 :\n",
        "Les réseaux de neurones les plus profonds sont difficiles à entrainer.  \n",
        "Dans un reseaux de neurones, le fait d'empiler plusieurs couches (convolutionnels,..) nous mène au problème du vanishing/exploding gradients qui va bloquer la convergence dès le début.  \n",
        "Les resNets vont être utilisés pour remédier à ce problème là.   \n",
        "Les resNets ont introduit le concept de 'skip connection', c'est à dire ajouter l'input à l'output d'un block convolutionnel.\n",
        "![](https://drive.google.com/uc?id=1ipM4UlWY-XZh7C4ldgDyyAmIAXJI6pFH)\n",
        "\n",
        "On a Y = F(x)+ x.  \n",
        "La logique derrière les resNets est de rendre Y = x.  \n",
        "Dans les réseaux de neurones classiques, on apprend de Y = F(x) alors dans les resNets on apprend de F(x) et notre but est de la rendre nulle pour que nous ayons à la fin Y = x.  \n",
        "Avec cette logique là, l'accuracy du réseau va augmenter.\n",
        "\n",
        "### **Resnet50 architecture :**\n",
        "\n",
        "![](https://drive.google.com/uc?id=1hex1vJ_Xym8OESCbiTKBE_KLbbX_K64j)\n",
        "\n",
        "\n",
        "\n"
      ]
    },
    {
      "cell_type": "code",
      "metadata": {
        "colab": {
          "base_uri": "https://localhost:8080/",
          "height": 35
        },
        "id": "Az5nL_EsWIg6",
        "outputId": "3637f130-886a-4dd2-ac0f-837b986fbb4d"
      },
      "source": [
        "import tensorflow as tf\n",
        "tf.test.gpu_device_name()"
      ],
      "execution_count": null,
      "outputs": [
        {
          "output_type": "execute_result",
          "data": {
            "application/vnd.google.colaboratory.intrinsic+json": {
              "type": "string"
            },
            "text/plain": [
              "'/device:GPU:0'"
            ]
          },
          "metadata": {
            "tags": []
          },
          "execution_count": 1
        }
      ]
    },
    {
      "cell_type": "code",
      "metadata": {
        "colab": {
          "base_uri": "https://localhost:8080/"
        },
        "id": "igv8Gr32OCqb",
        "outputId": "2e4121f6-3a9b-47fc-c4e4-85f6cdf39dcf"
      },
      "source": [
        "from google.colab import drive\n",
        "drive.mount('/content/gdrive')"
      ],
      "execution_count": null,
      "outputs": [
        {
          "output_type": "stream",
          "text": [
            "Mounted at /content/gdrive\n"
          ],
          "name": "stdout"
        }
      ]
    },
    {
      "cell_type": "code",
      "metadata": {
        "id": "C96HeprWZBWE"
      },
      "source": [
        "import cv2\n",
        "import numpy as np\n",
        "import os\n",
        "from keras.preprocessing.image import ImageDataGenerator\n",
        "from keras import backend as K\n",
        "import keras\n",
        "from keras.models import Sequential, Model,load_model\n",
        "from keras.optimizers import SGD\n",
        "from keras.callbacks import EarlyStopping,ModelCheckpoint\n",
        "from google.colab.patches import cv2_imshow\n",
        "from keras.layers import Input, Add, Dense, Activation, ZeroPadding2D, BatchNormalization, Flatten, Conv2D, AveragePooling2D, MaxPooling2D, GlobalMaxPooling2D,MaxPool2D\n",
        "from keras.preprocessing import image\n",
        "from keras.initializers import glorot_uniform\n",
        "import matplotlib.pyplot as plt\n",
        "from keras.models import model_from_json\n"
      ],
      "execution_count": null,
      "outputs": []
    },
    {
      "cell_type": "markdown",
      "metadata": {
        "id": "2ufdBKCgbwgi"
      },
      "source": [
        "**Préparer les données :**"
      ]
    },
    {
      "cell_type": "code",
      "metadata": {
        "id": "N3kU3OidZQAm"
      },
      "source": [
        "def read_image(file_path) :\n",
        "  img = cv2.imread(file_path, cv2.IMREAD_COLOR)\n",
        "  return cv2.resize(img, (300, 200), interpolation=cv2.INTER_CUBIC)\n",
        "\n",
        "def prepare_data(images) :\n",
        "  m = len(images)\n",
        "  print(m)\n",
        "  X = np.zeros((m, 200, 300, 3), dtype = np.uint8)\n",
        "  y = np.zeros((1, m), dtype = np.uint8)\n",
        "  for i, image_file in enumerate(images) :\n",
        "    print(i, image_file)\n",
        "    X[i,:] = read_image(image_file)\n",
        "    if 'rock' in image_file :\n",
        "      y[0,i] = 0\n",
        "    elif 'paper' in image_file :\n",
        "      y[0,i] = 1\n",
        "    elif 'scissor' in image_file :\n",
        "      y[0,i] = 2\n",
        "  return X,y\n",
        "\n",
        "def convert_to_one_hot(Y,C) :\n",
        "  Y = np.eye(C)[Y.reshape(-1)].T\n",
        "  return Y\n",
        "  "
      ],
      "execution_count": null,
      "outputs": []
    },
    {
      "cell_type": "code",
      "metadata": {
        "colab": {
          "base_uri": "https://localhost:8080/"
        },
        "id": "4ZUInq8Qiz65",
        "outputId": "7e5922f9-4ad8-4d62-f10c-426d6ca758ed"
      },
      "source": [
        "read_image('/content/gdrive/My Drive/datasets/rps-dataset/train/0paper.jpg').shape"
      ],
      "execution_count": null,
      "outputs": [
        {
          "output_type": "execute_result",
          "data": {
            "text/plain": [
              "(200, 300, 3)"
            ]
          },
          "metadata": {
            "tags": []
          },
          "execution_count": 5
        }
      ]
    },
    {
      "cell_type": "code",
      "metadata": {
        "id": "8saIAA1sKfNS"
      },
      "source": [
        "CLASSES = 3\n",
        "CHANNELS = 3\n",
        "HEIGHT = 200\n",
        "WIDTH = 300\n",
        "\n",
        "train_path=\"/content/gdrive/My Drive/datasets/rps-dataset/train/\"\n",
        "test_path =\"/content/gdrive/My Drive/datasets/rps-dataset/test/\"\n",
        "\n",
        "train_images = [train_path+i for i in os.listdir(train_path)]\n",
        "test_images  = [test_path+i for i in os.listdir(test_path)]\n",
        "\n",
        "train_set_x, train_set_y = prepare_data(train_images)\n",
        "test_set_x , test_set_y  = prepare_data(test_images)\n",
        "\n",
        "X_train = train_set_x/255\n",
        "X_test  = test_set_x/255\n",
        "\n",
        "Y_train = convert_to_one_hot(train_set_y, CLASSES).T\n",
        "Y_test  = convert_to_one_hot(test_set_y, CLASSES).T"
      ],
      "execution_count": null,
      "outputs": []
    },
    {
      "cell_type": "code",
      "metadata": {
        "colab": {
          "base_uri": "https://localhost:8080/"
        },
        "id": "qB7vXm9QbtTP",
        "outputId": "f1cbd653-8fc3-4d90-c572-b8e84d6de754"
      },
      "source": [
        "Y_train[45]"
      ],
      "execution_count": null,
      "outputs": [
        {
          "output_type": "execute_result",
          "data": {
            "text/plain": [
              "array([0., 1., 0.])"
            ]
          },
          "metadata": {
            "tags": []
          },
          "execution_count": 7
        }
      ]
    },
    {
      "cell_type": "code",
      "metadata": {
        "colab": {
          "base_uri": "https://localhost:8080/"
        },
        "id": "JdhoxPFBUFeY",
        "outputId": "5a88c8c9-78e9-41c2-e726-a474433a3c8d"
      },
      "source": [
        "print(X_train.shape)\n",
        "print(X_test.shape)\n",
        "print(Y_train.shape)\n",
        "print(Y_test.shape)"
      ],
      "execution_count": null,
      "outputs": [
        {
          "output_type": "stream",
          "text": [
            "(1710, 200, 300, 3)\n",
            "(426, 200, 300, 3)\n",
            "(1710, 3)\n",
            "(426, 3)\n"
          ],
          "name": "stdout"
        }
      ]
    },
    {
      "cell_type": "code",
      "metadata": {
        "colab": {
          "base_uri": "https://localhost:8080/"
        },
        "id": "Th4hwFEaal14",
        "outputId": "98e189e1-6850-475c-efef-de4256da4381"
      },
      "source": [
        "X_test[0].shape"
      ],
      "execution_count": null,
      "outputs": [
        {
          "output_type": "execute_result",
          "data": {
            "text/plain": [
              "(200, 300, 3)"
            ]
          },
          "metadata": {
            "tags": []
          },
          "execution_count": 9
        }
      ]
    },
    {
      "cell_type": "markdown",
      "metadata": {
        "id": "1_EFIgOUb7tv"
      },
      "source": [
        "**Identity block implémentation:**"
      ]
    },
    {
      "cell_type": "code",
      "metadata": {
        "id": "T3Gvi7wyUmOl"
      },
      "source": [
        "def identity_block(X, f, filters, stage, block):\n",
        "   \n",
        "    conv_name_base = 'res' + str(stage) + block + '_branch'\n",
        "    bn_name_base = 'bn' + str(stage) + block + '_branch'\n",
        "    F1, F2, F3 = filters\n",
        "\n",
        "    X_shortcut = X\n",
        "   \n",
        "    X = Conv2D(filters=F1, kernel_size=(1, 1), strides=(1, 1), padding='valid', name=conv_name_base + '2a', kernel_initializer=glorot_uniform(seed=0))(X)\n",
        "    X = BatchNormalization(axis=3, name=bn_name_base + '2a')(X)\n",
        "    X = Activation('relu')(X)\n",
        "\n",
        "    X = Conv2D(filters=F2, kernel_size=(f, f), strides=(1, 1), padding='same', name=conv_name_base + '2b', kernel_initializer=glorot_uniform(seed=0))(X)\n",
        "    X = BatchNormalization(axis=3, name=bn_name_base + '2b')(X)\n",
        "    X = Activation('relu')(X)\n",
        "\n",
        "    X = Conv2D(filters=F3, kernel_size=(1, 1), strides=(1, 1), padding='valid', name=conv_name_base + '2c', kernel_initializer=glorot_uniform(seed=0))(X)\n",
        "    X = BatchNormalization(axis=3, name=bn_name_base + '2c')(X)\n",
        "\n",
        "    X = Add()([X, X_shortcut])# SKIP Connection\n",
        "    X = Activation('relu')(X)\n",
        "\n",
        "    return X"
      ],
      "execution_count": null,
      "outputs": []
    },
    {
      "cell_type": "markdown",
      "metadata": {
        "id": "N6wDfqshcB4D"
      },
      "source": [
        "**Convolutional block implementation:** "
      ]
    },
    {
      "cell_type": "code",
      "metadata": {
        "id": "R64MWs9RVw2m"
      },
      "source": [
        "def convolutional_block(X, f, filters, stage, block, s=2):\n",
        "   \n",
        "    conv_name_base = 'res' + str(stage) + block + '_branch'\n",
        "    bn_name_base = 'bn' + str(stage) + block + '_branch'\n",
        "\n",
        "    F1, F2, F3 = filters\n",
        "\n",
        "    X_shortcut = X\n",
        "\n",
        "    X = Conv2D(filters=F1, kernel_size=(1, 1), strides=(s, s), padding='valid', name=conv_name_base + '2a', kernel_initializer=glorot_uniform(seed=0))(X)\n",
        "    X = BatchNormalization(axis=3, name=bn_name_base + '2a')(X)\n",
        "    X = Activation('relu')(X)\n",
        "\n",
        "    X = Conv2D(filters=F2, kernel_size=(f, f), strides=(1, 1), padding='same', name=conv_name_base + '2b', kernel_initializer=glorot_uniform(seed=0))(X)\n",
        "    X = BatchNormalization(axis=3, name=bn_name_base + '2b')(X)\n",
        "    X = Activation('relu')(X)\n",
        "\n",
        "    X = Conv2D(filters=F3, kernel_size=(1, 1), strides=(1, 1), padding='valid', name=conv_name_base + '2c', kernel_initializer=glorot_uniform(seed=0))(X)\n",
        "    X = BatchNormalization(axis=3, name=bn_name_base + '2c')(X)\n",
        "\n",
        "    X_shortcut = Conv2D(filters=F3, kernel_size=(1, 1), strides=(s, s), padding='valid', name=conv_name_base + '1', kernel_initializer=glorot_uniform(seed=0))(X_shortcut)\n",
        "    X_shortcut = BatchNormalization(axis=3, name=bn_name_base + '1')(X_shortcut)\n",
        "\n",
        "    X = Add()([X, X_shortcut])\n",
        "    X = Activation('relu')(X)\n",
        "\n",
        "    return X"
      ],
      "execution_count": null,
      "outputs": []
    },
    {
      "cell_type": "markdown",
      "metadata": {
        "id": "-l4JyzhCfEDH"
      },
      "source": [
        "### Softmax activation :\n",
        "Utilisée quand on a un problème de classification multiclasse.\n",
        "### Sigmoid activation :\n",
        "Utilisée quand on a un problème de classification binaire."
      ]
    },
    {
      "cell_type": "markdown",
      "metadata": {
        "id": "2tzbEsD4cM8s"
      },
      "source": [
        "**ResNet50 implementation:**"
      ]
    },
    {
      "cell_type": "code",
      "metadata": {
        "id": "h-VUZEAcWxNC"
      },
      "source": [
        "def ResNet50(input_shape=(200, 300, 3), classes=3):\n",
        "\n",
        "    X_input = Input(input_shape)\n",
        "\n",
        "    # Zero-padding\n",
        "    X = ZeroPadding2D((3, 3))(X_input)\n",
        "\n",
        "    # Stage 1\n",
        "    X = Conv2D(64, (7, 7), strides=(2, 2), name='conv1', kernel_initializer=glorot_uniform(seed=0))(X)\n",
        "    X = BatchNormalization(axis=3, name='bn_conv1')(X)\n",
        "    X = Activation('relu')(X)\n",
        "    X = MaxPooling2D((3, 3), strides=(2, 2))(X)\n",
        "\n",
        "    # Stage 2\n",
        "    X = convolutional_block(X, f=3, filters=[64, 64, 256], stage=2, block='a', s=1)\n",
        "    X = identity_block(X, 3, [64, 64, 256], stage=2, block='b')\n",
        "    X = identity_block(X, 3, [64, 64, 256], stage=2, block='c')\n",
        "\n",
        "    # Stage 3\n",
        "    X = convolutional_block(X, f=3, filters=[128, 128, 512], stage=3, block='a', s=2)\n",
        "    X = identity_block(X, 3, [128, 128, 512], stage=3, block='b')\n",
        "    X = identity_block(X, 3, [128, 128, 512], stage=3, block='c')\n",
        "    X = identity_block(X, 3, [128, 128, 512], stage=3, block='d')\n",
        "\n",
        "    # Stage 4\n",
        "    X = convolutional_block(X, f=3, filters=[256, 256, 1024], stage=4, block='a', s=2)\n",
        "    X = identity_block(X, 3, [256, 256, 1024], stage=4, block='b')\n",
        "    X = identity_block(X, 3, [256, 256, 1024], stage=4, block='c')\n",
        "    X = identity_block(X, 3, [256, 256, 1024], stage=4, block='d')\n",
        "    X = identity_block(X, 3, [256, 256, 1024], stage=4, block='e')\n",
        "    X = identity_block(X, 3, [256, 256, 1024], stage=4, block='f')\n",
        "\n",
        "    # Stage 5\n",
        "    X = X = convolutional_block(X, f=3, filters=[512, 512, 2048], stage=5, block='a', s=2)\n",
        "    X = identity_block(X, 3, [512, 512, 2048], stage=5, block='b')\n",
        "    X = identity_block(X, 3, [512, 512, 2048], stage=5, block='c')\n",
        "\n",
        "    # AVGPOOL\n",
        "    X = AveragePooling2D(pool_size=(2, 2), padding='same')(X)\n",
        "\n",
        "    # output layer\n",
        "    X = Flatten()(X)\n",
        "    X = Dense(classes, activation='softmax', name='fc' + str(classes), kernel_initializer=glorot_uniform(seed=0))(X)\n",
        "    \n",
        "    # Create model\n",
        "    model = Model(inputs=X_input, outputs=X, name='ResNet50')\n",
        "\n",
        "\n",
        "\n",
        "    return model"
      ],
      "execution_count": null,
      "outputs": []
    },
    {
      "cell_type": "markdown",
      "metadata": {
        "id": "y1hxLPu2DdBo"
      },
      "source": [
        "**Initialiser le modèle**"
      ]
    },
    {
      "cell_type": "code",
      "metadata": {
        "id": "5NQecyj2DlAQ"
      },
      "source": [
        "model = ResNet50(input_shape=(HEIGHT,WIDTH,CHANNELS), classes=CLASSES)"
      ],
      "execution_count": null,
      "outputs": []
    },
    {
      "cell_type": "markdown",
      "metadata": {
        "id": "U9CHwrtSEBcV"
      },
      "source": [
        "**Compiler le modèle**"
      ]
    },
    {
      "cell_type": "code",
      "metadata": {
        "id": "Pix4m8MyEFok"
      },
      "source": [
        "model.compile(optimizer='adam', loss='categorical_crossentropy', metrics=['accuracy'])"
      ],
      "execution_count": null,
      "outputs": []
    },
    {
      "cell_type": "markdown",
      "metadata": {
        "id": "Be4whG0HEb8H"
      },
      "source": [
        "**Entraîner le modèle**"
      ]
    },
    {
      "cell_type": "code",
      "metadata": {
        "id": "zRcHa5P4Ez8l",
        "colab": {
          "base_uri": "https://localhost:8080/"
        },
        "outputId": "4ba39e7a-2ff3-462a-fc3f-cae2f6555803"
      },
      "source": [
        "model.fit(X_train, Y_train, epochs=20, batch_size=16)"
      ],
      "execution_count": null,
      "outputs": [
        {
          "output_type": "stream",
          "text": [
            "Epoch 1/20\n",
            "107/107 [==============================] - 62s 218ms/step - loss: 5.1475 - accuracy: 0.6167\n",
            "Epoch 2/20\n",
            "107/107 [==============================] - 21s 200ms/step - loss: 1.0273 - accuracy: 0.8407\n",
            "Epoch 3/20\n",
            "107/107 [==============================] - 22s 203ms/step - loss: 0.1853 - accuracy: 0.9513\n",
            "Epoch 4/20\n",
            "107/107 [==============================] - 22s 207ms/step - loss: 0.5661 - accuracy: 0.9577\n",
            "Epoch 5/20\n",
            "107/107 [==============================] - 23s 211ms/step - loss: 2.5831 - accuracy: 0.8047\n",
            "Epoch 6/20\n",
            "107/107 [==============================] - 23s 213ms/step - loss: 0.9004 - accuracy: 0.9291\n",
            "Epoch 7/20\n",
            "107/107 [==============================] - 23s 216ms/step - loss: 0.1103 - accuracy: 0.9789\n",
            "Epoch 8/20\n",
            "107/107 [==============================] - 23s 214ms/step - loss: 0.1699 - accuracy: 0.9752\n",
            "Epoch 9/20\n",
            "107/107 [==============================] - 23s 214ms/step - loss: 0.1220 - accuracy: 0.9836\n",
            "Epoch 10/20\n",
            "107/107 [==============================] - 23s 215ms/step - loss: 0.0515 - accuracy: 0.9800\n",
            "Epoch 11/20\n",
            "107/107 [==============================] - 23s 215ms/step - loss: 0.0225 - accuracy: 0.9933\n",
            "Epoch 12/20\n",
            "107/107 [==============================] - 23s 216ms/step - loss: 0.1119 - accuracy: 0.9855\n",
            "Epoch 13/20\n",
            "107/107 [==============================] - 23s 215ms/step - loss: 0.0931 - accuracy: 0.9887\n",
            "Epoch 14/20\n",
            "107/107 [==============================] - 23s 215ms/step - loss: 0.5090 - accuracy: 0.9499\n",
            "Epoch 15/20\n",
            "107/107 [==============================] - 23s 215ms/step - loss: 0.0963 - accuracy: 0.9780\n",
            "Epoch 16/20\n",
            "107/107 [==============================] - 23s 215ms/step - loss: 0.1234 - accuracy: 0.9766\n",
            "Epoch 17/20\n",
            "107/107 [==============================] - 23s 215ms/step - loss: 0.0527 - accuracy: 0.9956\n",
            "Epoch 18/20\n",
            "107/107 [==============================] - 23s 215ms/step - loss: 0.0299 - accuracy: 0.9918\n",
            "Epoch 19/20\n",
            "107/107 [==============================] - 23s 215ms/step - loss: 0.0289 - accuracy: 0.9942\n",
            "Epoch 20/20\n",
            "107/107 [==============================] - 23s 215ms/step - loss: 0.0035 - accuracy: 0.9990\n"
          ],
          "name": "stdout"
        },
        {
          "output_type": "execute_result",
          "data": {
            "text/plain": [
              "<tensorflow.python.keras.callbacks.History at 0x7f49bc076ad0>"
            ]
          },
          "metadata": {
            "tags": []
          },
          "execution_count": 15
        }
      ]
    },
    {
      "cell_type": "code",
      "metadata": {
        "colab": {
          "base_uri": "https://localhost:8080/"
        },
        "id": "3ZOl4KWeD8Fk",
        "outputId": "fe81a2e6-ea7a-4374-d246-58025ddcec66"
      },
      "source": [
        "preds = model.evaluate(X_test, Y_test)\n",
        "print(\"loss = \", preds[0])\n",
        "print(\"test accuracy = \", preds[1])\n"
      ],
      "execution_count": null,
      "outputs": [
        {
          "output_type": "stream",
          "text": [
            "14/14 [==============================] - 5s 182ms/step - loss: 0.1694 - accuracy: 0.9883\n",
            "loss =  0.1694122850894928\n",
            "test accuracy =  0.9882628917694092\n"
          ],
          "name": "stdout"
        }
      ]
    },
    {
      "cell_type": "code",
      "metadata": {
        "id": "R3JxbGY_XkwA"
      },
      "source": [
        "model.summary()"
      ],
      "execution_count": null,
      "outputs": []
    },
    {
      "cell_type": "code",
      "metadata": {
        "colab": {
          "base_uri": "https://localhost:8080/"
        },
        "id": "FcvNi4wzKx8p",
        "outputId": "ad7897b8-a1c4-4bf3-c472-5e5f577dae26"
      },
      "source": [
        "model.predict(np.expand_dims(X_test[190], axis=0))"
      ],
      "execution_count": null,
      "outputs": [
        {
          "output_type": "execute_result",
          "data": {
            "text/plain": [
              "array([[1.7682579e-17, 1.0000000e+00, 1.5249152e-17]], dtype=float32)"
            ]
          },
          "metadata": {
            "tags": []
          },
          "execution_count": 17
        }
      ]
    },
    {
      "cell_type": "code",
      "metadata": {
        "id": "SEOCGlBMaEW7"
      },
      "source": [
        "def predict_rps(img) :\n",
        "  preds = model.predict(np.expand_dims(img, axis=0))\n",
        "  if 0.9 <= preds[0,0] <= 1 :\n",
        "    result = 'rock'\n",
        "  elif 0.9 <= preds[0,1] <= 1 :\n",
        "    result = 'paper'\n",
        "  elif 0.9 <= preds[0,2] <= 1 :\n",
        "    result = 'scissor'\n",
        "  return result\n"
      ],
      "execution_count": null,
      "outputs": []
    },
    {
      "cell_type": "code",
      "metadata": {
        "colab": {
          "base_uri": "https://localhost:8080/",
          "height": 287
        },
        "id": "waJeSq-WJe_3",
        "outputId": "98c26ada-b86d-49f7-bf58-b959a0447b05"
      },
      "source": [
        "plt.imshow(X_test[360])\n",
        "predict_rps(X_test[360])"
      ],
      "execution_count": null,
      "outputs": [
        {
          "output_type": "execute_result",
          "data": {
            "application/vnd.google.colaboratory.intrinsic+json": {
              "type": "string"
            },
            "text/plain": [
              "'scissor'"
            ]
          },
          "metadata": {
            "tags": []
          },
          "execution_count": 19
        },
        {
          "output_type": "display_data",
          "data": {
            "image/png": "[encoded data removed]",
            "text/plain": [
              "<Figure size 432x288 with 1 Axes>"
            ]
          },
          "metadata": {
            "tags": [],
            "needs_background": "light"
          }
        }
      ]
    },
    {
      "cell_type": "markdown",
      "metadata": {
        "id": "qAV9e7ndwDjc"
      },
      "source": [
        "**Serialize model to JSON**\n",
        "**Serialize weights to HDF5**"
      ]
    },
    {
      "cell_type": "code",
      "metadata": {
        "id": "0vSYa0Wc-JW4"
      },
      "source": [
        "model_json = model.to_json()\n",
        "with open(\"/content/gdrive/My Drive/datasets/rps-dataset/model.json\",'w') as json_file :\n",
        "  json_file.write(model_json)\n",
        "model.save_weights(\"/content/gdrive/My Drive/datasets/rps-dataset/model.h5\")\n"
      ],
      "execution_count": null,
      "outputs": []
    },
    {
      "cell_type": "markdown",
      "metadata": {
        "id": "v2jeB-YJwg6e"
      },
      "source": [
        "**Load JSON and create model**"
      ]
    },
    {
      "cell_type": "code",
      "metadata": {
        "id": "TdeKye_mwfNo"
      },
      "source": [
        "import pprint\n",
        "json_file = open(\"/content/gdrive/My Drive/datasets/rps-dataset/model.json\",'r')\n",
        "loaded_model_json = json_file.read()\n",
        "json_file.close()\n",
        "loaded_model = model_from_json(loaded_model_json)\n",
        "loaded_model.load_weights(\"/content/gdrive/My Drive/datasets/rps-dataset/model.h5\")"
      ],
      "execution_count": null,
      "outputs": []
    },
    {
      "cell_type": "code",
      "metadata": {
        "id": "KCy68fo9xzmB"
      },
      "source": [
        "loaded_model.compile(optimizer='adam', loss='categorical_crossentropy', metrics=['accuracy'])"
      ],
      "execution_count": null,
      "outputs": []
    },
    {
      "cell_type": "code",
      "metadata": {
        "colab": {
          "base_uri": "https://localhost:8080/"
        },
        "id": "ibB5TsDsx7t5",
        "outputId": "6a3f250b-6168-4ac7-bcf6-0032d923bb15"
      },
      "source": [
        "preds2 = loaded_model.evaluate(X_test, Y_test)\n",
        "print(\"loss = \", preds2[0])\n",
        "print(\"test accuracy = \", preds2[1])"
      ],
      "execution_count": null,
      "outputs": [
        {
          "output_type": "stream",
          "text": [
            "14/14 [==============================] - 3s 111ms/step - loss: 0.1510 - accuracy: 0.9869\n",
            "loss =  0.1694122850894928\n",
            "test accuracy =  0.9882628917694092\n"
          ],
          "name": "stdout"
        }
      ]
    }
  ]
}